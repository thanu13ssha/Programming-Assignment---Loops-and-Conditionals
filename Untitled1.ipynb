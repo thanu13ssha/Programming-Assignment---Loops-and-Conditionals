{
 "cells": [
  {
   "cell_type": "code",
   "execution_count": 8,
   "id": "acf9e0df-f721-488c-95a2-21611a16a3f9",
   "metadata": {},
   "outputs": [
    {
     "name": "stdout",
     "output_type": "stream",
     "text": [
      "too low\n"
     ]
    }
   ],
   "source": [
    "# Part 4.1\n",
    "secret = 7  # You can choose any number between 1 and 10\n",
    "guess = 7   # You can choose any number between 1 and 10\n",
    "\n",
    "if guess < secret:\n",
    "    print(\"too low\")\n",
    "elif guess > secret:\n",
    "    print(\"too high\")\n",
    "else:\n",
    "    print(\"just right\")\n"
   ]
  },
  {
   "cell_type": "code",
   "execution_count": 9,
   "id": "6c0fcf70-b2d4-4a3b-ac05-409747d50977",
   "metadata": {},
   "outputs": [
    {
     "name": "stdout",
     "output_type": "stream",
     "text": [
      "pea\n"
     ]
    }
   ],
   "source": [
    "# Part 4.2\n",
    "small = True\n",
    "green = True\n",
    "\n",
    "if small and green:\n",
    "    print(\"pea\")\n",
    "elif small and not green:\n",
    "    print(\"cherry\")\n",
    "elif not small and green:\n",
    "    print(\"watermelon\")\n",
    "else:\n",
    "    print(\"pumpkin\")\n"
   ]
  },
  {
   "cell_type": "code",
   "execution_count": 10,
   "id": "c626ce3b-0bf1-4aba-a61c-ebb57f884a31",
   "metadata": {},
   "outputs": [
    {
     "name": "stdout",
     "output_type": "stream",
     "text": [
      "3\n",
      "2\n",
      "1\n",
      "0\n"
     ]
    }
   ],
   "source": [
    "# Part 6.1\n",
    "for num in [3, 2, 1, 0]:\n",
    "    print(num)\n"
   ]
  },
  {
   "cell_type": "code",
   "execution_count": 11,
   "id": "4afcfbea-098a-471d-a6ba-db443f2bfc3a",
   "metadata": {},
   "outputs": [
    {
     "name": "stdout",
     "output_type": "stream",
     "text": [
      "too low\n",
      "too low\n",
      "too low\n",
      "too low\n",
      "too low\n",
      "too low\n",
      "found it!\n"
     ]
    }
   ],
   "source": [
    "# Part 6.2\n",
    "guess_me = 7\n",
    "number = 1\n",
    "\n",
    "while number <= guess_me:\n",
    "    if number < guess_me:\n",
    "        print('too low')\n",
    "    elif number == guess_me:\n",
    "        print('found it!')\n",
    "        break\n",
    "    else:\n",
    "        print('oops')\n",
    "        break\n",
    "    number += 1\n"
   ]
  },
  {
   "cell_type": "code",
   "execution_count": 12,
   "id": "da689747-a6c3-45ed-bb82-31966e73bef7",
   "metadata": {},
   "outputs": [
    {
     "name": "stdout",
     "output_type": "stream",
     "text": [
      "too low\n",
      "too low\n",
      "too low\n",
      "too low\n",
      "too low\n",
      "found it!\n"
     ]
    }
   ],
   "source": [
    "# Part 6.3\n",
    "guess_me = 5\n",
    "\n",
    "for number in range(10):\n",
    "    if number < guess_me:\n",
    "        print('too low')\n",
    "    elif number == guess_me:\n",
    "        print('found it!')\n",
    "        break\n",
    "    else:\n",
    "        print('oops')\n",
    "        break\n"
   ]
  },
  {
   "cell_type": "code",
   "execution_count": null,
   "id": "09bc1872-0360-4373-9f77-db04f49bb04e",
   "metadata": {},
   "outputs": [],
   "source": []
  },
  {
   "cell_type": "code",
   "execution_count": null,
   "id": "ca7be4cc-7b8a-4ac7-ad2f-c9d55bfb517c",
   "metadata": {},
   "outputs": [],
   "source": []
  }
 ],
 "metadata": {
  "kernelspec": {
   "display_name": "Python 3 (ipykernel)",
   "language": "python",
   "name": "python3"
  },
  "language_info": {
   "codemirror_mode": {
    "name": "ipython",
    "version": 3
   },
   "file_extension": ".py",
   "mimetype": "text/x-python",
   "name": "python",
   "nbconvert_exporter": "python",
   "pygments_lexer": "ipython3",
   "version": "3.11.7"
  }
 },
 "nbformat": 4,
 "nbformat_minor": 5
}
